{
 "cells": [
  {
   "attachments": {},
   "cell_type": "markdown",
   "metadata": {},
   "source": [
    "# Tackling MNIST with just Numpy "
   ]
  },
  {
   "attachments": {},
   "cell_type": "markdown",
   "metadata": {},
   "source": [
    "### Installing dependecies\n",
    "Note: Tensorflow is imported here so that we can easily get the mnist dataset. "
   ]
  },
  {
   "cell_type": "code",
   "execution_count": 224,
   "metadata": {},
   "outputs": [],
   "source": [
    "import pandas as pd\n",
    "import numpy as np\n",
    "from tensorflow import keras # Keras is only imported as its an easy way to retrieve the mnist dataset.\n",
    "import matplotlib.pyplot as plt"
   ]
  },
  {
   "attachments": {},
   "cell_type": "markdown",
   "metadata": {},
   "source": [
    "### Loading Data and preprocessing"
   ]
  },
  {
   "cell_type": "code",
   "execution_count": 225,
   "metadata": {},
   "outputs": [
    {
     "name": "stdout",
     "output_type": "stream",
     "text": [
      "x_train shape: (60000, 28, 28)\n",
      "x_test shape: (10000, 28, 28)\n",
      "y_train shape: (60000,)\n",
      "y_test shape: (10000,)\n",
      "y_train example: 5\n"
     ]
    }
   ],
   "source": [
    "(x_train, y_train), (x_test, y_test) = keras.datasets.mnist.load_data()\n",
    "print (f'x_train shape: {x_train.shape}')\n",
    "print (f'x_test shape: {x_test.shape}')\n",
    "print (f'y_train shape: {y_train.shape}')\n",
    "print (f'y_test shape: {y_test.shape}')\n",
    "\n",
    "print (f'y_train example: {y_train[0]}')"
   ]
  },
  {
   "cell_type": "code",
   "execution_count": 226,
   "metadata": {},
   "outputs": [
    {
     "data": {
      "image/png": "[encoded data removed]",
      "text/plain": [
       "<Figure size 864x360 with 10 Axes>"
      ]
     },
     "metadata": {
      "needs_background": "light"
     },
     "output_type": "display_data"
    }
   ],
   "source": [
    "%matplotlib inline\n",
    "\n",
    "fig, axes = plt.subplots(2,5, figsize=(12,5))\n",
    "axes = axes.flatten()\n",
    "idx = np.random.randint(0,60000,size=10)\n",
    "for i in range(10):\n",
    "    axes[i].imshow(x_train[idx[i],:].reshape(28,28), cmap='gray')\n",
    "    axes[i].axis('off') # hide the axes ticks\n",
    "    axes[i].set_title(str(int(y_train[idx[i]])), color= 'black', fontsize=25)\n",
    "plt.show()"
   ]
  },
  {
   "cell_type": "code",
   "execution_count": 227,
   "metadata": {},
   "outputs": [],
   "source": [
    "'''\n",
    "Each pixel is single grayscale, meaning a value between 0 to 255.\n",
    "Normalising the inputs to a value between 0 to 1 makes the calculations later on smaller.\n",
    "This makes the gradient value closer to our weight initialization \n",
    "'''\n",
    "\n",
    "x_train = x_train.reshape(x_train.shape[0], x_train.shape[1]*x_train.shape[2])\n",
    "x_train = x_train/255\n",
    "x_test = x_test.reshape(x_test.shape[0], x_test.shape[1]*x_test.shape[2])\n",
    "x_test = x_test/255\n",
    "\n",
    "def one_hot_encode_array(y:np.array):\n",
    "    '''Hot encodes the output examples.'''\n",
    "    hot_encoded = np.zeros([y.shape[0],10 ])\n",
    "    for i, x in enumerate(y):\n",
    "        hot_encoded[i][x] = 1\n",
    "    return hot_encoded\n",
    "\n",
    "y_train = one_hot_encode_array(y_train)\n",
    "y_test = one_hot_encode_array(y_test)"
   ]
  },
  {
   "cell_type": "code",
   "execution_count": 228,
   "metadata": {},
   "outputs": [],
   "source": [
    "def relu(x):\n",
    "    x[x < 0] = 0\n",
    "    return x\n",
    "\n",
    "\n",
    "def softmax(x):\n",
    "    \"\"\"\n",
    "    Compute the softmax of vector x in a numerically stable way.\n",
    "    Softmax is an interesting function.\n",
    "    Please read https://eli.thegreenplace.net/2016/the-softmax-function-and-its-derivative/ for an indepth analysis on it and its derivatives.\n",
    "    \"\"\"\n",
    "    shiftx = x - np.max(x, axis=0)\n",
    "    exps = np.exp(shiftx)\n",
    "    return exps / np.sum(exps, axis=0)\n",
    "\n",
    "\n",
    "def forward_pass(a_0, w_1, w_2):\n",
    "    # Layer 1\n",
    "    z_1 = w_1 @ a_0  #   N1 x 784 * 784 x m  = N1 x m\n",
    "    a_1 = relu(z_1)  #  N1 x m\n",
    "\n",
    "    # Layer 2\n",
    "    z_2 = w_2 @ a_1  #  10 x N1 * N1 x m  = 10 x m\n",
    "    a_2 = softmax(z_2)  # 10 x m\n",
    "    return z_1, a_1, z_2, a_2\n",
    "\n",
    "\n",
    "def d_relu(x):\n",
    "    diag = x>0\n",
    "    return np.diag(diag.flatten())\n",
    "\n",
    "\n",
    "def d_softmax(z):\n",
    "    \"\"\"Computes the gradient of the softmax function.\n",
    "    z: (T, 1) array of input values where the gradient is computed. T is the\n",
    "       number of output classes.\n",
    "    Returns D (T, T) the Jacobian matrix of softmax(z) at the given z. D[i, j]\n",
    "    is DjSi - the partial derivative of Si w.r.t. input j.\n",
    "    \"\"\"\n",
    "    Sz = softmax(z)\n",
    "    # -SjSi can be computed using an outer product between Sz and itself. Then\n",
    "    # we add back Si for the i=j cases by adding a diagonal matrix with the\n",
    "    # values of Si on its diagonal.\n",
    "    D = -np.outer(Sz, Sz) + np.diag(Sz.flatten())\n",
    "    return D\n",
    "\n",
    "\n",
    "def cross_entropy_loss(a_2, y):\n",
    "    \"\"\"Cross-entropy loss between predicted and expected probabilities.\n",
    "    p: vector of predicted probabilities.\n",
    "    y: vector of expected probabilities. Has to be the same shape as p.\n",
    "    Returns a scalar.\n",
    "    \"\"\"\n",
    "    assert a_2.shape == y.shape\n",
    "    eps = 1e-30\n",
    "    return - np.sum(y * np.log(a_2+eps))\n",
    "\n",
    "\n",
    "def d_cross_entropy_loss(a_2, y):\n",
    "    \"\"\"Gradient of the cross-entropy loss function for p and y.\n",
    "    p: (T, 1) vector of predicted probabilities.\n",
    "    y: (T, 1) vector of expected probabilities; must be one-hot -- one and only\n",
    "              one element of y is 1; the rest are 0.\n",
    "    Returns a (1, T) Jacobian for this function.\n",
    "    \"\"\"\n",
    "    assert a_2.shape == y.shape and a_2.shape[1] == 1\n",
    "    # py is the value of p at the index where y == 1 (one and only one such\n",
    "    # index is expected for a one-hot y).\n",
    "    py = a_2[y == 1]\n",
    "    assert py.size == 1\n",
    "    # D is zeros everywhere except at the index where y == 1. The final D has\n",
    "    # to be a row-vector.\n",
    "    D = np.zeros_like(a_2)\n",
    "    if py.flat[0] == 0:\n",
    "        py.flat[0] = 1e-30\n",
    "    D[y == 1] = -1 / (py.flat[0])\n",
    "    return D.flatten().reshape(-1, 1)\n",
    "    \n",
    "\n",
    "\n",
    "def backward_pass(a_0, z_1, a_1, z_2, a_2, w_1, w_2, Y):\n",
    "    # Backward pass, differenciate wrt Cost function.\n",
    "    d_a2 = d_cross_entropy_loss(a_2, Y)  # 10 x m\n",
    "    d_z2 = d_a2.T @ d_softmax(z_2) # 10 x m * 10 x 10 = m x 10\n",
    "    d_w2 = d_z2.T @ a_1.T  # 10 x m * m * N1 = 10 x N1\n",
    "\n",
    "    d_a1 = w_2.T @ d_z2.T  # N1 x 10  * 10 x m  = N1 x m\n",
    "    d_z1 = d_a1.T @ d_relu(z_1)  # m x N1 *  N1 x N1 = N1 x m\n",
    "    d_w1 = d_z1.T @ a_0.T  # N1 x m * m x 784 = N1 x 784\n",
    "\n",
    "    assert d_w1.shape == w_1.shape, f\"{d_w1.shape} {w_1.shape}\"\n",
    "    assert d_w2.shape == w_2.shape, f\"{d_w2.shape} {w_2.shape}\"\n",
    "\n",
    "    return d_w1, d_w2\n",
    "\n",
    "\n",
    "def update_weights(w_1, w_2, d_w1, d_w2, learning_rate):\n",
    "    w_1 = w_1 - learning_rate * d_w1\n",
    "    w_2 = w_2 - learning_rate * d_w2\n",
    "    return w_1, w_2\n"
   ]
  },
  {
   "cell_type": "code",
   "execution_count": 229,
   "metadata": {},
   "outputs": [],
   "source": [
    "def gradient_descent(X, Y, w_1, w_2 , epochs = 1, learning_rate=0.001):\n",
    "    loss = []\n",
    "    for i in range(epochs):\n",
    "        for x,y in zip(X, Y):\n",
    "            a_0 = x.reshape(-1,1)\n",
    "            y = y.reshape(-1,1)\n",
    "            z_1, a_1, z_2 ,a_2 = forward_pass(a_0, w_1, w_2)\n",
    "            loss.append(cross_entropy_loss(a_2,y))\n",
    "            d_w1 , d_w2 = backward_pass(a_0, z_1,a_1, z_2 ,a_2, w_1,w_2, y)\n",
    "            w_1, w_2 = update_weights(w_1,w_2, d_w1,d_w2,learning_rate)\n",
    "\n",
    "    return w_1,w_2,loss\n",
    "\n",
    "def get_prediction(a_2):\n",
    "    return np.argmax(a_2.T)\n",
    "\n",
    "def check_accuracy(X,Y ,w_1,w_2):\n",
    "    a_0 = X.T\n",
    "    z_1, a_1, z_2 ,a_2 = forward_pass(a_0, w_1, w_2)\n",
    "    print(np.argmax(a_2[:10], axis=0))\n",
    "    print(np.argmax(Y.T[:10],axis=0))\n",
    "\n",
    "    accuracy = 1 - np.count_nonzero(np.argmax(Y.T,axis=0)- np.argmax(a_2, axis=0))/len(Y)\n",
    "    return accuracy"
   ]
  },
  {
   "cell_type": "code",
   "execution_count": 230,
   "metadata": {},
   "outputs": [],
   "source": [
    "neurons = 256\n",
    "epochs = 2\n",
    "learning_rate = 0.0001\n",
    "w_1 = np.random.rand(neurons,784)\n",
    "w_2 = np.random.rand(10, neurons)"
   ]
  },
  {
   "cell_type": "code",
   "execution_count": 231,
   "metadata": {},
   "outputs": [
    {
     "ename": "ValueError",
     "evalue": "shapes (1,10) and (1,256) not aligned: 10 (dim 1) != 1 (dim 0)",
     "output_type": "error",
     "traceback": [
      "\u001b[1;31m---------------------------------------------------------------------------\u001b[0m",
      "\u001b[1;31mValueError\u001b[0m                                Traceback (most recent call last)",
      "\u001b[1;32m~\\AppData\\Local\\Temp/ipykernel_34968/3332819856.py\u001b[0m in \u001b[0;36m<module>\u001b[1;34m\u001b[0m\n\u001b[1;32m----> 1\u001b[1;33m \u001b[0mw_1\u001b[0m\u001b[1;33m,\u001b[0m\u001b[0mw_2\u001b[0m\u001b[1;33m,\u001b[0m\u001b[0mloss\u001b[0m \u001b[1;33m=\u001b[0m \u001b[0mgradient_descent\u001b[0m\u001b[1;33m(\u001b[0m\u001b[0mx_train\u001b[0m\u001b[1;33m,\u001b[0m \u001b[0my_train\u001b[0m\u001b[1;33m,\u001b[0m \u001b[0mw_1\u001b[0m\u001b[1;33m,\u001b[0m \u001b[0mw_2\u001b[0m\u001b[1;33m,\u001b[0m \u001b[0mepochs\u001b[0m\u001b[1;33m,\u001b[0m \u001b[0mlearning_rate\u001b[0m\u001b[1;33m)\u001b[0m\u001b[1;33m\u001b[0m\u001b[1;33m\u001b[0m\u001b[0m\n\u001b[0m",
      "\u001b[1;32m~\\AppData\\Local\\Temp/ipykernel_34968/2517933965.py\u001b[0m in \u001b[0;36mgradient_descent\u001b[1;34m(X, Y, w_1, w_2, epochs, learning_rate)\u001b[0m\n\u001b[0;32m      7\u001b[0m             \u001b[0mz_1\u001b[0m\u001b[1;33m,\u001b[0m \u001b[0ma_1\u001b[0m\u001b[1;33m,\u001b[0m \u001b[0mz_2\u001b[0m \u001b[1;33m,\u001b[0m\u001b[0ma_2\u001b[0m \u001b[1;33m=\u001b[0m \u001b[0mforward_pass\u001b[0m\u001b[1;33m(\u001b[0m\u001b[0ma_0\u001b[0m\u001b[1;33m,\u001b[0m \u001b[0mw_1\u001b[0m\u001b[1;33m,\u001b[0m \u001b[0mw_2\u001b[0m\u001b[1;33m)\u001b[0m\u001b[1;33m\u001b[0m\u001b[1;33m\u001b[0m\u001b[0m\n\u001b[0;32m      8\u001b[0m             \u001b[0mloss\u001b[0m\u001b[1;33m.\u001b[0m\u001b[0mappend\u001b[0m\u001b[1;33m(\u001b[0m\u001b[0mcross_entropy_loss\u001b[0m\u001b[1;33m(\u001b[0m\u001b[0ma_2\u001b[0m\u001b[1;33m,\u001b[0m\u001b[0my\u001b[0m\u001b[1;33m)\u001b[0m\u001b[1;33m)\u001b[0m\u001b[1;33m\u001b[0m\u001b[1;33m\u001b[0m\u001b[0m\n\u001b[1;32m----> 9\u001b[1;33m             \u001b[0md_w1\u001b[0m \u001b[1;33m,\u001b[0m \u001b[0md_w2\u001b[0m \u001b[1;33m=\u001b[0m \u001b[0mbackward_pass\u001b[0m\u001b[1;33m(\u001b[0m\u001b[0ma_0\u001b[0m\u001b[1;33m,\u001b[0m \u001b[0mz_1\u001b[0m\u001b[1;33m,\u001b[0m\u001b[0ma_1\u001b[0m\u001b[1;33m,\u001b[0m \u001b[0mz_2\u001b[0m \u001b[1;33m,\u001b[0m\u001b[0ma_2\u001b[0m\u001b[1;33m,\u001b[0m \u001b[0mw_1\u001b[0m\u001b[1;33m,\u001b[0m\u001b[0mw_2\u001b[0m\u001b[1;33m,\u001b[0m \u001b[0my\u001b[0m\u001b[1;33m)\u001b[0m\u001b[1;33m\u001b[0m\u001b[1;33m\u001b[0m\u001b[0m\n\u001b[0m\u001b[0;32m     10\u001b[0m             \u001b[0mw_1\u001b[0m\u001b[1;33m,\u001b[0m \u001b[0mw_2\u001b[0m \u001b[1;33m=\u001b[0m \u001b[0mupdate_weights\u001b[0m\u001b[1;33m(\u001b[0m\u001b[0mw_1\u001b[0m\u001b[1;33m,\u001b[0m\u001b[0mw_2\u001b[0m\u001b[1;33m,\u001b[0m \u001b[0md_w1\u001b[0m\u001b[1;33m,\u001b[0m\u001b[0md_w2\u001b[0m\u001b[1;33m,\u001b[0m\u001b[0mlearning_rate\u001b[0m\u001b[1;33m)\u001b[0m\u001b[1;33m\u001b[0m\u001b[1;33m\u001b[0m\u001b[0m\n\u001b[0;32m     11\u001b[0m \u001b[1;33m\u001b[0m\u001b[0m\n",
      "\u001b[1;32m~\\AppData\\Local\\Temp/ipykernel_34968/2102535556.py\u001b[0m in \u001b[0;36mbackward_pass\u001b[1;34m(a_0, z_1, a_1, z_2, a_2, w_1, w_2, Y)\u001b[0m\n\u001b[0;32m     83\u001b[0m     \u001b[0md_a2\u001b[0m \u001b[1;33m=\u001b[0m \u001b[0md_cross_entropy_loss\u001b[0m\u001b[1;33m(\u001b[0m\u001b[0ma_2\u001b[0m\u001b[1;33m,\u001b[0m \u001b[0mY\u001b[0m\u001b[1;33m)\u001b[0m  \u001b[1;31m# 10 x m\u001b[0m\u001b[1;33m\u001b[0m\u001b[1;33m\u001b[0m\u001b[0m\n\u001b[0;32m     84\u001b[0m     \u001b[0md_z2\u001b[0m \u001b[1;33m=\u001b[0m \u001b[0md_a2\u001b[0m\u001b[1;33m.\u001b[0m\u001b[0mT\u001b[0m \u001b[1;33m@\u001b[0m \u001b[0md_softmax\u001b[0m\u001b[1;33m(\u001b[0m\u001b[0mz_2\u001b[0m\u001b[1;33m)\u001b[0m \u001b[1;31m# 10 x m * 10 x 10 = m x 10\u001b[0m\u001b[1;33m\u001b[0m\u001b[1;33m\u001b[0m\u001b[0m\n\u001b[1;32m---> 85\u001b[1;33m     \u001b[0md_w2\u001b[0m \u001b[1;33m=\u001b[0m \u001b[0mnp\u001b[0m\u001b[1;33m.\u001b[0m\u001b[0mdot\u001b[0m\u001b[1;33m(\u001b[0m\u001b[0md_z2\u001b[0m \u001b[1;33m,\u001b[0m \u001b[0ma_1\u001b[0m\u001b[1;33m.\u001b[0m\u001b[0mT\u001b[0m\u001b[1;33m)\u001b[0m  \u001b[1;31m# 10 x m * m * N1 = 10 x N1\u001b[0m\u001b[1;33m\u001b[0m\u001b[1;33m\u001b[0m\u001b[0m\n\u001b[0m\u001b[0;32m     86\u001b[0m \u001b[1;33m\u001b[0m\u001b[0m\n\u001b[0;32m     87\u001b[0m     \u001b[0md_a1\u001b[0m \u001b[1;33m=\u001b[0m \u001b[0mw_2\u001b[0m\u001b[1;33m.\u001b[0m\u001b[0mT\u001b[0m \u001b[1;33m@\u001b[0m \u001b[0md_z2\u001b[0m\u001b[1;33m.\u001b[0m\u001b[0mT\u001b[0m  \u001b[1;31m# N1 x 10  * 10 x m  = N1 x m\u001b[0m\u001b[1;33m\u001b[0m\u001b[1;33m\u001b[0m\u001b[0m\n",
      "\u001b[1;32mc:\\Users\\lcmch\\AppData\\Local\\Programs\\Python\\Python39\\lib\\site-packages\\numpy\\core\\overrides.py\u001b[0m in \u001b[0;36mdot\u001b[1;34m(*args, **kwargs)\u001b[0m\n",
      "\u001b[1;31mValueError\u001b[0m: shapes (1,10) and (1,256) not aligned: 10 (dim 1) != 1 (dim 0)"
     ]
    }
   ],
   "source": [
    "w_1,w_2,loss = gradient_descent(x_train, y_train, w_1, w_2, epochs, learning_rate)"
   ]
  },
  {
   "cell_type": "code",
   "execution_count": null,
   "metadata": {},
   "outputs": [],
   "source": [
    "# Plots the average loss\n",
    "loss_sample = [ np.mean(loss[i: i+500]) for i,x in enumerate(loss) if i % 500 == 0 ]\n",
    "plt.plot(loss_sample)\n",
    "plt.show()"
   ]
  },
  {
   "cell_type": "code",
   "execution_count": null,
   "metadata": {},
   "outputs": [],
   "source": [
    "accuracy = check_accuracy(x_test,y_test,w_1,w_2)\n",
    "accuracy"
   ]
  }
 ],
 "metadata": {
  "kernelspec": {
   "display_name": "Python 3",
   "language": "python",
   "name": "python3"
  },
  "language_info": {
   "codemirror_mode": {
    "name": "ipython",
    "version": 3
   },
   "file_extension": ".py",
   "mimetype": "text/x-python",
   "name": "python",
   "nbconvert_exporter": "python",
   "pygments_lexer": "ipython3",
   "version": "3.9.0"
  },
  "orig_nbformat": 4,
  "vscode": {
   "interpreter": {
    "hash": "69794a4f2e6b88789417fbfa55385ccec1db84b3e27bcc17da2343fc727325cc"
   }
  }
 },
 "nbformat": 4,
 "nbformat_minor": 2
}
